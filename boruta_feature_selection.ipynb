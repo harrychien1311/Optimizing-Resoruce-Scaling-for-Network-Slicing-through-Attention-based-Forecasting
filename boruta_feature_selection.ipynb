{
 "cells": [
  {
   "cell_type": "code",
   "execution_count": 22,
   "metadata": {},
   "outputs": [],
   "source": [
    "from sklearn import preprocessing\n",
    "import pandas as pd\n",
    "import numpy\n",
    "from numpy import array"
   ]
  },
  {
   "cell_type": "code",
   "execution_count": 67,
   "metadata": {},
   "outputs": [],
   "source": [
    "from sklearn.ensemble import RandomForestRegressor"
   ]
  },
  {
   "cell_type": "code",
   "execution_count": 68,
   "metadata": {},
   "outputs": [],
   "source": [
    "# define random forest classifier\n",
    "forest = RandomForestRegressor(random_state=42, max_depth=5)"
   ]
  },
  {
   "cell_type": "code",
   "execution_count": 18,
   "metadata": {},
   "outputs": [],
   "source": [
    "def split_dataset(data):\n",
    "\t# split into standard weeks\n",
    "\ttrain, test = data[1:5011, 1:], data[4000:, 1:]\n",
    "\t# restructure into windows of weekly data\n",
    "\t#train = array(split(train, len(train)/7))\n",
    "\t#test = array(split(test, len(test)/7))\n",
    "\treturn train, test"
   ]
  },
  {
   "cell_type": "code",
   "execution_count": 76,
   "metadata": {},
   "outputs": [],
   "source": [
    "def to_supervised(train, n_input, n_out=5):\n",
    "\tdata = train\n",
    "\tX, y = list(), list()\n",
    "\tin_start = 0\n",
    "\t# step over the entire history one time step at a time\n",
    "\tfor _ in range(len(data)):\n",
    "\t\t# define the end of the input sequence\n",
    "\t\tin_end = in_start + n_input\n",
    "\t\tout_end = in_end + n_out\n",
    "\t\t# ensure we have enough data for this instance\n",
    "\t\tif out_end <= len(data):\n",
    "\t\t\tX.append(data[in_start:in_end,:])\n",
    "\t\t\ty.append(data[in_end:out_end, 3])\n",
    "\t\t# move along one time step\n",
    "\t\tin_start += 1\n",
    "\treturn array(X), array(y)"
   ]
  },
  {
   "cell_type": "code",
   "execution_count": 96,
   "metadata": {},
   "outputs": [],
   "source": [
    "cols = list(pd.read_csv('01.csv',nrows=1, sep=';'))\n",
    "dataset = pd.read_csv('01.csv', sep=';', engine='python', usecols =[i for i in cols if i != 'Timestamp'])\n",
    "#split into train and test\n",
    "#train, test = split_dataset(dataset.values)\n",
    "#X,y = to_supervised(train,30)\n",
    "#dataset=numpy.asarray(dataset).astype(numpy.float32)\n",
    "#y=numpy.asarray(y).astype(numpy.float32)"
   ]
  },
  {
   "cell_type": "code",
   "execution_count": 62,
   "metadata": {},
   "outputs": [],
   "source": [
    "features = array(['CPU cores',\n",
    "                     'CPU capacity provisioned [MHZ]', 'CPU usage [MHZ]',\n",
    "                     'Memory capacity provisioned [KB]', 'Memory usage [KB]','Memory usage [%]', \n",
    "                     'Disk read throughput [KB/s]', 'Disk write throughput [KB/s]',\n",
    "                     'Disk size [GB]', 'Network received throughput [KB/s]', 'Network transmitted throughput [KB/s]'])"
   ]
  },
  {
   "cell_type": "code",
   "execution_count": 104,
   "metadata": {},
   "outputs": [
    {
     "data": {
      "text/plain": [
       "RandomForestRegressor(max_depth=5, n_estimators=63,\n",
       "                      random_state=RandomState(MT19937) at 0x7FA10E8DD340)"
      ]
     },
     "execution_count": 104,
     "metadata": {},
     "output_type": "execute_result"
    }
   ],
   "source": [
    "forest.fit(numpy.asarray(dataset).astype(numpy.float32),numpy.asarray(dataset).astype(numpy.float32)[:, 6])"
   ]
  },
  {
   "cell_type": "code",
   "execution_count": 98,
   "metadata": {},
   "outputs": [],
   "source": [
    "from boruta import BorutaPy"
   ]
  },
  {
   "cell_type": "code",
   "execution_count": 105,
   "metadata": {},
   "outputs": [],
   "source": [
    "boruta = BorutaPy(\n",
    "   estimator = forest, \n",
    "   n_estimators = 'auto',\n",
    "   max_iter = 100 # number of trials to perform\n",
    ")"
   ]
  },
  {
   "cell_type": "code",
   "execution_count": 106,
   "metadata": {},
   "outputs": [
    {
     "data": {
      "text/plain": [
       "BorutaPy(estimator=RandomForestRegressor(max_depth=5, n_estimators=48,\n",
       "                                         random_state=RandomState(MT19937) at 0x7FA10E8DD340),\n",
       "         n_estimators='auto',\n",
       "         random_state=RandomState(MT19937) at 0x7FA10E8DD340)"
      ]
     },
     "execution_count": 106,
     "metadata": {},
     "output_type": "execute_result"
    }
   ],
   "source": [
    "boruta.fit(numpy.asarray(dataset).astype(numpy.float32),numpy.asarray(dataset).astype(numpy.float32)[:, 6])"
   ]
  },
  {
   "cell_type": "code",
   "execution_count": 107,
   "metadata": {},
   "outputs": [],
   "source": [
    "green_area = dataset.columns[boruta.support_].to_list()"
   ]
  },
  {
   "cell_type": "code",
   "execution_count": 108,
   "metadata": {},
   "outputs": [],
   "source": [
    "blue_area = dataset.columns[boruta.support_weak_].to_list()"
   ]
  },
  {
   "cell_type": "code",
   "execution_count": 109,
   "metadata": {},
   "outputs": [
    {
     "name": "stdout",
     "output_type": "stream",
     "text": [
      "features in the green area: ['Memory usage [KB]', 'Memory usage [%]']\n",
      "features in the blue area: []\n"
     ]
    }
   ],
   "source": [
    "print('features in the green area:', green_area)\n",
    "print('features in the blue area:', blue_area)"
   ]
  },
  {
   "cell_type": "code",
   "execution_count": null,
   "metadata": {},
   "outputs": [],
   "source": []
  },
  {
   "cell_type": "code",
   "execution_count": null,
   "metadata": {},
   "outputs": [],
   "source": []
  }
 ],
 "metadata": {
  "kernelspec": {
   "display_name": "Python 3",
   "language": "python",
   "name": "python3"
  },
  "language_info": {
   "codemirror_mode": {
    "name": "ipython",
    "version": 3
   },
   "file_extension": ".py",
   "mimetype": "text/x-python",
   "name": "python",
   "nbconvert_exporter": "python",
   "pygments_lexer": "ipython3",
   "version": "3.8.10"
  }
 },
 "nbformat": 4,
 "nbformat_minor": 4
}
